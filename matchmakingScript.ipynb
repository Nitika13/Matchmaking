{
  "cells": [
    {
      "cell_type": "code",
      "execution_count": null,
      "metadata": {},
      "outputs": [],
      "source": [
        "import pandas as pd\n",
        "from gensim.models import Word2Vec\n",
        "from sklearn.metrics.pairwise import cosine_similarity\n",
        "import numpy as np\n",
        "from sklearn.model_selection import train_test_split"
      ]
    },
    {
      "cell_type": "code",
      "execution_count": null,
      "metadata": {
        "id": "XnTQNPZf5qMq"
      },
      "outputs": [],
      "source": [
        "csv_file = \"responses.csv\"\n",
        "df = pd.read_csv(csv_file)"
      ]
    },
    {
      "cell_type": "code",
      "execution_count": null,
      "metadata": {
        "id": "UN0K-oTMMtSw"
      },
      "outputs": [],
      "source": [
        "df_personachat = pd.read_csv(\"personality.csv\")"
      ]
    },
    {
      "cell_type": "code",
      "execution_count": null,
      "metadata": {
        "id": "RdaFTpDfM2Q7"
      },
      "outputs": [],
      "source": [
        "df_personachat['combined_text'] = df_personachat[['Persona', 'chat']].fillna('').agg(' '.join, axis=1)\n",
        "df_personachat['tokens'] = df_personachat['combined_text'].apply(lambda x: x.split())"
      ]
    },
    {
      "cell_type": "code",
      "execution_count": null,
      "metadata": {
        "id": "Ry3vsmnGNfmx"
      },
      "outputs": [],
      "source": [
        "train_data, test_data = train_test_split(df_personachat['tokens'], test_size=0.2, random_state=42)"
      ]
    },
    {
      "cell_type": "code",
      "execution_count": null,
      "metadata": {
        "colab": {
          "base_uri": "https://localhost:8080/"
        },
        "id": "nJ2CkDlY-Sq8",
        "outputId": "68c3930b-f109-4bf3-c8e8-f976775f131b"
      },
      "outputs": [
        {
          "name": "stdout",
          "output_type": "stream",
          "text": [
            "Cleaned Columns: Index(['timestamp', 'what's your instagram id ?', 'activity', 'conversation',\n",
            "       'collaboration', 'conversation', 'combined_text', 'tokens', 'vector'],\n",
            "      dtype='object')\n"
          ]
        }
      ],
      "source": [
        "df.columns = df.columns.str.strip().str.lower().str.replace(r'\\s+', ' ', regex=True)\n",
        "print(\"Cleaned Columns:\", df.columns)"
      ]
    },
    {
      "cell_type": "code",
      "execution_count": null,
      "metadata": {
        "colab": {
          "base_uri": "https://localhost:8080/"
        },
        "collapsed": true,
        "id": "4MdqzVU_8EAL",
        "outputId": "2d70ecaf-f00b-4a38-8f00-16f36a88c5a7"
      },
      "outputs": [
        {
          "name": "stdout",
          "output_type": "stream",
          "text": [
            "Updated Columns: Index(['timestamp', 'what's your instagram id ?', 'Activity', 'Conversation',\n",
            "       'Collaboration', 'Conversation'],\n",
            "      dtype='object')\n"
          ]
        }
      ],
      "source": [
        "column_mapping = {\n",
        "    'activity: what do you want to do on weekends, something crazy that you have the means to do or want to do but your friends are never up for it. (ex. trying some crazy shack in arambol, going on a trek, coding for 16 hrs straight, partying in a villa, visiting thalassa, pranking people in your hostel, renting a car and drifting, wine tasting, anything)': 'Activity',\n",
        "    'conversation: what do you care a lot about but your friends don’t give a fuck about it, but you wanted someone who was as excited about it as you are. (ex. star trek, vogue fashion magazine, osama bin ladin , consumer psychology, perfume testing, actual meaning of life , anything)': 'Conversation',\n",
        "    'activity: what do you wish to do that you hoped you’d find someone to collaborate on with? (ex. collabing on a music video, making a bizz plan, jamming session on arctic monkeys, going for daily morning jogs, getting high, learning hip hop, whatever tf you want)': 'Collaboration',\n",
        "    'conversation: or you someone looking for just a good, soulful conversation with someone who has empathy, patience, and slight maturity? you don\\'t really care about any particular thing, just want a wholesome person to talk to. answer \"yes\" only if you can be the same type of person to the other person.': 'Conversation',\n",
        "}\n",
        "df.rename(columns=column_mapping, inplace=True)\n",
        "print(\"Updated Columns:\", df.columns)"
      ]
    },
    {
      "cell_type": "code",
      "execution_count": null,
      "metadata": {
        "id": "MtHFIzU39B32"
      },
      "outputs": [],
      "source": [
        "text_columns = ['Activity', 'Conversation', 'Collaboration']\n",
        "df['combined_text'] = df[text_columns].fillna('').agg(' '.join, axis=1)\n",
        "df['tokens'] = df['combined_text'].apply(lambda x: x.split())"
      ]
    },
    {
      "cell_type": "code",
      "execution_count": null,
      "metadata": {
        "id": "OFqKN2Ar7Agb"
      },
      "outputs": [],
      "source": [
        "model = Word2Vec(\n",
        "    sentences=train_data,\n",
        "    vector_size=100,  # Embedding vector size\n",
        "    window=5,         # Context window size\n",
        "    min_count=1,      # Minimum word frequency\n",
        "    workers=4,        # Number of CPU cores to use\n",
        "    epochs=10         # Number of training epochs\n",
        ")"
      ]
    },
    {
      "cell_type": "code",
      "execution_count": null,
      "metadata": {
        "id": "FBQ1ypaHOLEn"
      },
      "outputs": [],
      "source": [
        "model.save(\"personachat_word2vec.model\")\n",
        "loaded_model = Word2Vec.load(\"personachat_word2vec.model\")"
      ]
    },
    {
      "cell_type": "code",
      "execution_count": null,
      "metadata": {
        "id": "DfXK5is9_l2d"
      },
      "outputs": [],
      "source": [
        "def get_sentence_vector(tokens, model):\n",
        "    valid_vectors = [model.wv[word] for word in tokens if word in model.wv]\n",
        "    if valid_vectors:\n",
        "        return np.mean(valid_vectors, axis=0)\n",
        "    else:\n",
        "        return np.zeros(model.vector_size)"
      ]
    },
    {
      "cell_type": "code",
      "execution_count": null,
      "metadata": {
        "id": "QYQFcz5a_-ek"
      },
      "outputs": [],
      "source": [
        "df['vector'] = df['tokens'].apply(lambda tokens: get_sentence_vector(tokens, model))"
      ]
    },
    {
      "cell_type": "code",
      "execution_count": null,
      "metadata": {
        "id": "b31dzRXsAGmm"
      },
      "outputs": [],
      "source": [
        "vectors = np.array(df['vector'].tolist())"
      ]
    },
    {
      "cell_type": "code",
      "execution_count": null,
      "metadata": {
        "id": "y-ZXGjFoAR0n"
      },
      "outputs": [],
      "source": [
        "similarity_matrix = cosine_similarity(vectors)"
      ]
    },
    {
      "cell_type": "code",
      "execution_count": null,
      "metadata": {
        "id": "RKzDzMZ6AWQV"
      },
      "outputs": [],
      "source": [
        "top_n = 3\n",
        "matches = {}\n",
        "for i, row in df.iterrows():\n",
        "    similarity_scores = list(enumerate(similarity_matrix[i]))\n",
        "    similarity_scores = [score for score in similarity_scores if score[0] != i]\n",
        "    similarity_scores = sorted(similarity_scores, key=lambda x: x[1], reverse=True)\n",
        "    top_matches = [df.iloc[match[0]].get(\"what's your instagram id ?\", \"Unknown\") for match in similarity_scores[:top_n]]\n",
        "    matches[row[\"what's your instagram id ?\"]] = top_matches"
      ]
    },
    {
      "cell_type": "code",
      "execution_count": null,
      "metadata": {
        "id": "inDSzDhzA1eh"
      },
      "outputs": [],
      "source": [
        "matches_df = pd.DataFrame.from_dict(matches, orient='index', columns=[f'Match {i+1}' for i in range(top_n)])\n",
        "matches_df.to_csv('matches.csv', index_label='Instagram')"
      ]
    },
    {
      "cell_type": "code",
      "execution_count": null,
      "metadata": {},
      "outputs": [],
      "source": [
        "matches_df"
      ]
    }
  ],
  "metadata": {
    "colab": {
      "provenance": []
    },
    "kernelspec": {
      "display_name": "Python 3",
      "name": "python3"
    },
    "language_info": {
      "codemirror_mode": {
        "name": "ipython",
        "version": 3
      },
      "file_extension": ".py",
      "mimetype": "text/x-python",
      "name": "python",
      "nbconvert_exporter": "python",
      "pygments_lexer": "ipython3",
      "version": "3.13.1"
    }
  },
  "nbformat": 4,
  "nbformat_minor": 0
}
